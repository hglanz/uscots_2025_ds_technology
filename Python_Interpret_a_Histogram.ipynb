{
  "cells": [
    {
      "cell_type": "code",
      "execution_count": null,
      "id": "1902dfad",
      "metadata": {
        "id": "1902dfad"
      },
      "outputs": [],
      "source": [
        "#### Interpret a Histogram ####\n",
        "# Import necessary libraries\n",
        "import pandas as pd\n",
        "import numpy as np\n",
        "from plotnine import ggplot, aes, geom_histogram, xlab, ggtitle, theme_minimal\n",
        "\n",
        "# Import data\n",
        "countries = pd.read_csv('countries.csv')\n",
        "\n",
        "# Calculate bin edges manually to match Excel\n",
        "min_gni = countries['gni_per_capita'].min()\n",
        "max_gni = countries['gni_per_capita'].max()\n",
        "\n",
        "# Create 20 bins (you can adjust the number if needed)\n",
        "bins = np.linspace(min_gni, max_gni, 21)  # 21 edges for 20 bins\n",
        "\n",
        "# Plot using plotnine with manual binning\n",
        "plot = (ggplot(countries, aes(x='gni_per_capita')) +\n",
        "        geom_histogram(breaks=bins, fill='#0072b2', color='black') +  # Manually set bin breaks\n",
        "        xlab('GNI Per Capita ($)') +\n",
        "        ggtitle('Gross National Income Per Capita Worldwide')\n",
        "       )\n",
        "\n",
        "# Display the plot\n",
        "print(plot)"
      ]
    }
  ],
  "metadata": {
    "colab": {
      "provenance": []
    },
    "kernelspec": {
      "display_name": "Python 3 (ipykernel)",
      "language": "python",
      "name": "python3"
    },
    "language_info": {
      "codemirror_mode": {
        "name": "ipython",
        "version": 3
      },
      "file_extension": ".py",
      "mimetype": "text/x-python",
      "name": "python",
      "nbconvert_exporter": "python",
      "pygments_lexer": "ipython3",
      "version": "3.11.4"
    }
  },
  "nbformat": 4,
  "nbformat_minor": 5
}